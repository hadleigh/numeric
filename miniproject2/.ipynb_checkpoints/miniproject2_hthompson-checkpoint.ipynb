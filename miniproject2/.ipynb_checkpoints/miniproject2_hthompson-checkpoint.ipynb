{
 "cells": [
  {
   "cell_type": "markdown",
   "metadata": {},
   "source": [
    "## Mini Project 2  - Hadleigh Thompson. \n",
    "### ATSC 409 - Nov 2015"
   ]
  },
  {
   "cell_type": "markdown",
   "metadata": {},
   "source": [
    "### Introduction\n",
    "For this project we are required to introduce predators and prey to dasiy world, in the form of rabbits (that eat daisies) and Foxes (that prey on the rabbits).\n",
    "\n",
    "We have already seen in lab 5 the coupling between temperature and daisy coverage - and we expect to see additional coupling with  daisies / rabbits and rabbits / foxes. The desired final state is a non-zero population for all three, with possible pedator/prey oscilations. \n",
    "\n",
    "Note: to run this notebook from here-on, required elements include:\n",
    "    - miniproject2_hthompson.ipynb (this notebook)\n",
    "    - miniproject.yaml (associted input values)\n",
    "    - miniproject_functions.py (creation of the integrator class)\n",
    "    - miniproject_integrator54.py (integrator instance using the input values from miniproject.yaml)\n",
    "These can all be found in the miniproject2 folder\n",
    "\n",
    "The runge kutta method used in lab 5 is our basis for our adatptive step size routine, where we use the 'timeloop5err( )' function. The adaptive tolerances will initially remain the same as adative.yaml where:\n",
    "```yaml\n",
    "adaptvars:\n",
    "  dtpassmin: 0.1\n",
    "  dtfailmax: 0.5\n",
    "  dtfailmin: 0.1\n",
    "  s: 0.9\n",
    "  rtol: 1.0e-05\n",
    "  atol: 1.0e-05\n",
    "  maxsteps: 2000.0\n",
    "  maxfail: 60.0\n",
    "  dtpassmax: 5.0\n",
    "```\n",
    "\n",
    "### Initial Dasiy world equations\n",
    "The fuctions used in lab 5 were based on equations:\n",
    "\n",
    "$\\frac{dA_w}{dt} = A_w ( \\beta_w x - \\chi)$ \n",
    "\n",
    "$\\frac{dA_b}{dt} = A_b ( \\beta_b x - \\chi)$ \n",
    "\n",
    "$x = 1 - A_w - A_b$\n",
    "\n",
    "$\\beta_i = 1.0 - 0.003265(295.5 K -T_i)^2$\n",
    "\n",
    "$T^4_i = R L \\frac{S_0}{4\\sigma}(\\alpha_p-\\alpha_i) + T^4_e$\n",
    "\n",
    "$\\alpha_p = A_w\\alpha_w + A_b\\alpha_b + A_g\\alpha_g$\n",
    "\n",
    "$T^4_e = L \\frac{S_0}{4\\sigma}(1-\\alpha_p)$\n",
    "\n",
    "Our aim now is to alter the first two equations where the fractional coverage of daisies will be modified by the amount of rabbits. \n",
    "\n",
    "So our daisy equations become:\n",
    "\n",
    "$\\frac{dA_w}{dt} = A_w (\\beta_w x - \\chi_w - \\alpha A_R)$ \n",
    "\n",
    "$\\frac{dA_b}{dt} = A_b (\\beta_b x - \\chi_b - \\alpha A_R)$\n",
    "\n",
    "Where $\\alpha$ is the fraction daisies that the rabbits eat, out of all the white and black daisies avaliable. This is assuming the rabbits do not have a preference for a particular colour of daisy. \n",
    "\n",
    "Now need to create an equation for the rate of change of rabbits - which should include a birthrate proportional to the amount of daisies that the rabbits can find, and the likliehood of finding another rabbit. This is obviously tempered with a rabbit death rate and by the rabbits being hunted by foxes.\n",
    "\n",
    "That is:\n",
    "\n",
    "$\\frac{dR}{dt} = A_R(\\beta_R (1-x) - \\chi_R - \\epsilon A_F)$\n",
    "\n",
    "The $(1-x)$ represents fractional coverage of all dasies since $x$ is defined as the fraction of bare ground $x = (1-A_w-A_b)$. We assume that the birthrate is dependent on this value since without a food supply, we should a decline in rabbit population. $\\epsilon \\  A_F$ represents the variable predation of rabbits ($\\epsilon$) by a population of foxes ($A_F$).\n",
    "\n",
    "\n",
    "In the absence of any larger predators, the rate of change of foxes will be proptional to the likelihood of a fox meeting another fox, and of food supply (once again, a lack of food supply we assume to effect a decline in birthrate) - and of a deathrate constant.\n",
    "\n",
    "$\\frac{dF}{dt} = A_F(\\beta_R(A_R) - \\chi_F)$"
   ]
  },
  {
   "cell_type": "code",
   "execution_count": 48,
   "metadata": {
    "collapsed": false
   },
   "outputs": [
    {
     "data": {
      "image/png": "[encoded data removed]",
      "text/plain": [
       "<matplotlib.figure.Figure at 0x10991f550>"
      ]
     },
     "metadata": {},
     "output_type": "display_data"
    }
   ],
   "source": [
    "import miniproject2.miniproject_functions\n",
    "from miniproject2.miniproject_functions import Integrator\n",
    "from importlib import reload\n",
    "reload(miniproject2.miniproject_integrator54)\n",
    "from miniproject2.miniproject_integrator54 import miniproject_integ54\n",
    "\n",
    "%matplotlib inline\n",
    "import matplotlib.pyplot as plt\n",
    "import pandas as pd\n",
    "\n",
    "theSolver=miniproject_integ54('miniproject.yaml')\n",
    "timeVals,yVals,errorList=theSolver.timeloop5Err()\n",
    "\n",
    "yvals=pd.DataFrame.from_records(yVals,columns=['white','black','rabbits','foxes'])\n",
    "\n",
    "thefig,theAx=plt.subplots(1,1)\n",
    "\n",
    "points,=theAx.plot(timeVals,yvals['white'],'--k',label='white daisies')\n",
    "points.set_markersize(12)\n",
    "theLine1,=theAx.plot(timeVals,yvals['black'],'--b',label='black daisies')\n",
    "theLine2,=theAx.plot(timeVals,yvals['rabbits'], '--r',label='rabbits')\n",
    "theLine3,=theAx.plot(timeVals,yvals['foxes'], '--g',label='foxes')\n",
    "theAx.set_title('miniproject2')\n",
    "theAx.set_xlabel('time')\n",
    "theAx.set_ylabel('fractional coverage')\n",
    "out=theAx.legend(loc='best')\n",
    "\n",
    "# timeVals,yVals,errorList=theSolver.timeloop5fixed()\n",
    "# whiteDaisies=[frac[0] for frac in yVals]"
   ]
  },
  {
   "cell_type": "code",
   "execution_count": null,
   "metadata": {
    "collapsed": false
   },
   "outputs": [],
   "source": []
  },
  {
   "cell_type": "code",
   "execution_count": null,
   "metadata": {
    "collapsed": true
   },
   "outputs": [],
   "source": []
  },
  {
   "cell_type": "code",
   "execution_count": null,
   "metadata": {
    "collapsed": true
   },
   "outputs": [],
   "source": []
  }
 ],
 "metadata": {
  "kernelspec": {
   "display_name": "Python 3",
   "language": "python",
   "name": "python3"
  },
  "language_info": {
   "codemirror_mode": {
    "name": "ipython",
    "version": 3
   },
   "file_extension": ".py",
   "mimetype": "text/x-python",
   "name": "python",
   "nbconvert_exporter": "python",
   "pygments_lexer": "ipython3",
   "version": "3.4.3"
  }
 },
 "nbformat": 4,
 "nbformat_minor": 0
}
